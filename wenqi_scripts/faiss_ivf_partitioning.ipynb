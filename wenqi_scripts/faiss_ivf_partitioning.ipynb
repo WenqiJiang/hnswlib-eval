{
 "cells": [
  {
   "cell_type": "code",
   "execution_count": 28,
   "id": "94b6ff40",
   "metadata": {},
   "outputs": [],
   "source": [
    "import os\n",
    "import time\n",
    "import sys\n",
    "\n",
    "import numpy as np\n",
    "import faiss\n",
    "\n",
    "from multiprocessing.dummy import Pool as ThreadPool"
   ]
  },
  {
   "cell_type": "code",
   "execution_count": 3,
   "id": "6ed8b7cc",
   "metadata": {},
   "outputs": [],
   "source": [
    "def mmap_fvecs(fname):\n",
    "    x = np.memmap(fname, dtype='int32', mode='r')\n",
    "    d = x[0]\n",
    "    return x.view('float32').reshape(-1, d + 1)[:, 1:]\n",
    "\n",
    "def mmap_bvecs(fname):\n",
    "    x = np.memmap(fname, dtype='uint8', mode='r')\n",
    "    d = x[:4].view('int32')[0]\n",
    "    return x.reshape(-1, d + 4)[:, 4:]\n",
    "\n",
    "def ivecs_read(fname):\n",
    "    a = np.fromfile(fname, dtype='int32')\n",
    "    d = a[0]\n",
    "    # Wenqi: Format of ground truth (for 10000 query vectors):\n",
    "    #   1000(topK), [1000 ids]\n",
    "    #   1000(topK), [1000 ids]\n",
    "    #        ...     ...\n",
    "    #   1000(topK), [1000 ids]\n",
    "    # 10000 rows in total, 10000 * 1001 elements, 10000 * 1001 * 4 bytes\n",
    "    return a.reshape(-1, d + 1)[:, 1:].copy()\n",
    "\n",
    "def fvecs_read(fname):\n",
    "    return ivecs_read(fname).view('float32')"
   ]
  },
  {
   "cell_type": "code",
   "execution_count": 4,
   "id": "95c97d47",
   "metadata": {},
   "outputs": [
    {
     "name": "stdout",
     "output_type": "stream",
     "text": [
      "Vector shapes:\n",
      "Base vector xb:  (1000000, 128)\n",
      "Query vector xq:  (10000, 128)\n",
      "Ground truth gt:  (10000, 1000)\n"
     ]
    }
   ],
   "source": [
    "dbname = 'SIFT1M'\n",
    "\n",
    "if dbname.startswith('SIFT'):\n",
    "    # SIFT1M to SIFT1000M\n",
    "    dbsize = int(dbname[4:-1])\n",
    "    xb = mmap_bvecs('/mnt/scratch/wenqi/Faiss_experiments/bigann/bigann_base.bvecs')\n",
    "    xq = mmap_bvecs('/mnt/scratch/wenqi/Faiss_experiments/bigann/bigann_query.bvecs')\n",
    "    gt = ivecs_read('/mnt/scratch/wenqi/Faiss_experiments/bigann/gnd/idx_%dM.ivecs' % dbsize)\n",
    "\n",
    "    N_VEC = int(dbsize * 1000 * 1000)\n",
    "\n",
    "    # trim xb to correct size\n",
    "    xb = xb[:dbsize * 1000 * 1000]\n",
    "\n",
    "    # Wenqi: load xq to main memory and reshape\n",
    "    xq = xq.astype('float32').copy()\n",
    "    xq = np.array(xq, dtype=np.float32)\n",
    "    gt = np.array(gt, dtype=np.int32)\n",
    "\n",
    "    print(\"Vector shapes:\")\n",
    "    print(\"Base vector xb: \", xb.shape)\n",
    "    print(\"Query vector xq: \", xq.shape)\n",
    "    print(\"Ground truth gt: \", gt.shape)\n",
    "else:\n",
    "    print('unknown dataset', dbname, file=sys.stderr)\n",
    "    sys.exit(1)\n",
    "\n",
    "dim = xb.shape[1] # should be 128\n",
    "nq = xq.shape[0]"
   ]
  },
  {
   "cell_type": "code",
   "execution_count": 26,
   "id": "a6a315c8",
   "metadata": {},
   "outputs": [],
   "source": [
    "def get_trained_index(tmpdir, index_key, xt):\n",
    "    filename = \"%s/%s_%s_trained.index\" % (\n",
    "        tmpdir, dbname, index_key)\n",
    "\n",
    "    if not os.path.exists(filename):\n",
    "        index = faiss.index_factory(dim, \"IVF32,Flat\")\n",
    "\n",
    "        print(\"Keeping %d train vectors\" % xt.shape[0])\n",
    "        # make sure the data is actually in RAM and in float\n",
    "        xt = xt.astype('float32').copy()\n",
    "        index.verbose = True\n",
    "\n",
    "        t0 = time.time()\n",
    "        index.train(xt)\n",
    "        index.verbose = False\n",
    "        print(\"train done in %.3f s\" % (time.time() - t0))\n",
    "        print(\"storing\", filename)\n",
    "        faiss.write_index(index, filename)\n",
    "    else:\n",
    "        print(\"loading\", filename)\n",
    "        index = faiss.read_index(filename)\n",
    "    return index\n",
    "\n",
    "def rate_limited_imap(f, l):\n",
    "    'a thread pre-processes the next element'\n",
    "    pool = ThreadPool(1)\n",
    "    res = None\n",
    "    for i in l:\n",
    "        res_next = pool.apply_async(f, (i, ))\n",
    "        if res:\n",
    "            yield res.get()\n",
    "        res = res_next\n",
    "    yield res.get()\n",
    "\n",
    "def matrix_slice_iterator(x, bs):\n",
    "    \" iterate over the lines of x in blocks of size bs\"\n",
    "    nb = x.shape[0]\n",
    "    block_ranges = [(i0, min(nb, i0 + bs))\n",
    "                    for i0 in range(0, nb, bs)]\n",
    "\n",
    "    return rate_limited_imap(\n",
    "        lambda i01: x[i01[0]:i01[1]].astype('float32').copy(),\n",
    "        block_ranges)\n",
    "\n",
    "\n",
    "def get_populated_index(tmpdir, index_key, xt):\n",
    "\n",
    "    filename = \"%s/%s_%s_populated.index\" % (\n",
    "        tmpdir, dbname, index_key)\n",
    "\n",
    "    if not os.path.exists(filename):\n",
    "        index = get_trained_index(tmpdir, index_key, xt)\n",
    "        i0 = 0\n",
    "        t0 = time.time()\n",
    "        for xs in matrix_slice_iterator(xb, 100000):\n",
    "            i1 = i0 + xs.shape[0]\n",
    "            print('\\radd %d:%d, %.3f s' % (i0, i1, time.time() - t0), end=' ')\n",
    "            sys.stdout.flush()\n",
    "            index.add(xs)\n",
    "            i0 = i1\n",
    "        print()\n",
    "        print(\"Add done in %.3f s\" % (time.time() - t0))\n",
    "        print(\"storing\", filename)\n",
    "        faiss.write_index(index, filename)\n",
    "    else:\n",
    "        print(\"loading\", filename)\n",
    "        index = faiss.read_index(filename)\n",
    "        if save_numpy_index:\n",
    "            print(\"Saving index to numpy array...\")\n",
    "            chunk = faiss.serialize_index(index)\n",
    "            np.save(\"{}.npy\".format(filename), chunk)\n",
    "            print(\"Finish saving numpy index\")\n",
    "    return index\n",
    "\n"
   ]
  },
  {
   "cell_type": "code",
   "execution_count": 29,
   "id": "b75c9249",
   "metadata": {},
   "outputs": [
    {
     "name": "stdout",
     "output_type": "stream",
     "text": [
      "loading ../Faiss_indexes/SIFT1M_IVF32,Flat_trained.index\n",
      "add 900000:1000000, 8.425 s \n",
      "Add done in 9.081 s\n",
      "storing ../Faiss_indexes/SIFT1M_IVF32,Flat_populated.index\n"
     ]
    }
   ],
   "source": [
    "index_key = \"IVF32,Flat\"\n",
    "tmpdir = '../Faiss_indexes'\n",
    "\n",
    "n_train = int(1e4)\n",
    "xt = xb[:n_train]\n",
    "\n",
    "index = get_populated_index(tmpdir, index_key, xt)"
   ]
  },
  {
   "cell_type": "code",
   "execution_count": 32,
   "id": "6bba2231",
   "metadata": {},
   "outputs": [
    {
     "name": "stdout",
     "output_type": "stream",
     "text": [
      "nprobe=1 \t 0.6939 QPS = 1940.2193917302593\n",
      "nprobe=2 \t 0.8633 QPS = 1061.1150640727649\n",
      "nprobe=4 \t 0.9633 QPS = 559.3481966742291\n",
      "nprobe=8 \t 0.9943 QPS = 275.67645401822614\n",
      "nprobe=16 \t 0.9997 QPS = 135.8841252507223\n",
      "nprobe=32 \t 1.0000 QPS = 67.94364550157253\n"
     ]
    }
   ],
   "source": [
    "ps = faiss.ParameterSpace()\n",
    "ps.initialize(index)\n",
    "\n",
    "topK = 1\n",
    "parametersets = ['nprobe=1', 'nprobe=2', 'nprobe=4', 'nprobe=8', 'nprobe=16', 'nprobe=32']\n",
    "\n",
    "for param in parametersets:\n",
    "    print(param, '\\t', end=' ')\n",
    "    sys.stdout.flush()\n",
    "    ps.set_index_parameters(index, param)\n",
    "\n",
    "    t0 = time.time()\n",
    "    D, I = index.search(xq, topK)\n",
    "    t1 = time.time()\n",
    "\n",
    "    n_ok = (I[:, :topK] == gt[:, :1]).sum()\n",
    "    rank = 1\n",
    "#     for rank in 1, 10, 100:\n",
    "    n_ok = (I[:, :rank] == gt[:, :1]).sum()\n",
    "    print(\"%.4f\" % (n_ok / float(nq)), end=' ')\n",
    "    print(\"QPS = {}\".format(nq / (t1 - t0)))\n",
    "    #print(\"%8.3f  \" % ((t1 - t0) * 1000.0 / nq), end=' ms')\n",
    "    # print(\"%5.2f\" % (ivfpq_stats.n_hamming_pass * 100.0 / ivf_stats.ndis))\n"
   ]
  },
  {
   "cell_type": "code",
   "execution_count": 48,
   "id": "d9b95ecb",
   "metadata": {},
   "outputs": [
    {
     "name": "stdout",
     "output_type": "stream",
     "text": [
      "nprobe=1 \t 0.7300 QPS = 181038.67403314917\n",
      "nprobe=2 \t 0.8900 QPS = 96019.70619275348\n",
      "nprobe=4 \t 0.9800 QPS = 49867.95579979122\n",
      "nprobe=8 \t 1.0000 QPS = 26191.956767045238\n",
      "nprobe=16 \t 1.0000 QPS = 13012.844676553106\n",
      "nprobe=32 \t 1.0000 QPS = 6195.428713568305\n"
     ]
    }
   ],
   "source": [
    "# ONLY Using the first 100 vectors\n",
    "\n",
    "N = 100\n",
    "\n",
    "topK = 1\n",
    "parametersets = ['nprobe=1', 'nprobe=2', 'nprobe=4', 'nprobe=8', 'nprobe=16', 'nprobe=32']\n",
    "\n",
    "for param in parametersets:\n",
    "    print(param, '\\t', end=' ')\n",
    "    sys.stdout.flush()\n",
    "    ps.set_index_parameters(index, param)\n",
    "\n",
    "    t0 = time.time()\n",
    "    D, I = index.search(xq[:N], topK)\n",
    "    t1 = time.time()\n",
    "\n",
    "    n_ok = (I[:, :topK] == gt[:N, :1]).sum()\n",
    "    rank = 1\n",
    "#     for rank in 1, 10, 100:\n",
    "    n_ok = (I[:, :rank] == gt[:100][:, :1]).sum()\n",
    "    print(\"%.4f\" % (n_ok / float(N)), end=' ')\n",
    "    print(\"QPS = {}\".format(nq / (t1 - t0)))\n",
    "    #print(\"%8.3f  \" % ((t1 - t0) * 1000.0 / nq), end=' ms')\n",
    "    # print(\"%5.2f\" % (ivfpq_stats.n_hamming_pass * 100.0 / ivf_stats.ndis))"
   ]
  },
  {
   "cell_type": "code",
   "execution_count": null,
   "id": "46dd1ddd",
   "metadata": {},
   "outputs": [],
   "source": []
  }
 ],
 "metadata": {
  "kernelspec": {
   "display_name": "Python 3 (ipykernel)",
   "language": "python",
   "name": "python3"
  },
  "language_info": {
   "codemirror_mode": {
    "name": "ipython",
    "version": 3
   },
   "file_extension": ".py",
   "mimetype": "text/x-python",
   "name": "python",
   "nbconvert_exporter": "python",
   "pygments_lexer": "ipython3",
   "version": "3.8.13"
  }
 },
 "nbformat": 4,
 "nbformat_minor": 5
}
