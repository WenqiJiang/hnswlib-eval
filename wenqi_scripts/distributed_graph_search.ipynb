{
 "cells": [
  {
   "cell_type": "code",
   "execution_count": 2,
   "id": "ee44b4fc",
   "metadata": {},
   "outputs": [],
   "source": [
    "import hnswlib\n",
    "import numpy as np \n",
    "import struct\n",
    "import heapq\n",
    "import time\n",
    "import pickle\n",
    "import os\n",
    "\n",
    "from sklearn.cluster import KMeans\n",
    "\n",
    "from distributed_graph_index_construction import HNSW_index"
   ]
  },
  {
   "cell_type": "code",
   "execution_count": 4,
   "id": "6ffbaf5c",
   "metadata": {},
   "outputs": [],
   "source": [
    "def load_obj(dirc, name):\n",
    "    with open(os.path.join(dirc, name + '.pkl'), 'rb') as f:\n",
    "        return pickle.load(f)"
   ]
  },
  {
   "cell_type": "code",
   "execution_count": 19,
   "id": "f4cf8a2f",
   "metadata": {},
   "outputs": [],
   "source": [
    "def mmap_fvecs(fname):\n",
    "    x = np.memmap(fname, dtype='int32', mode='r')\n",
    "    d = x[0]\n",
    "    return x.view('float32').reshape(-1, d + 1)[:, 1:]\n",
    "\n",
    "def mmap_bvecs(fname):\n",
    "    x = np.memmap(fname, dtype='uint8', mode='r')\n",
    "    d = x[:4].view('int32')[0]\n",
    "    return x.reshape(-1, d + 4)[:, 4:]\n",
    "\n",
    "def ivecs_read(fname):\n",
    "    a = np.fromfile(fname, dtype='int32')\n",
    "    d = a[0]\n",
    "    # Wenqi: Format of ground truth (for 10000 query vectors):\n",
    "    #   1000(topK), [1000 ids]\n",
    "    #   1000(topK), [1000 ids]\n",
    "    #        ...     ...\n",
    "    #   1000(topK), [1000 ids]\n",
    "    # 10000 rows in total, 10000 * 1001 elements, 10000 * 1001 * 4 bytes\n",
    "    return a.reshape(-1, d + 1)[:, 1:].copy()\n",
    "\n",
    "def fvecs_read(fname):\n",
    "    return ivecs_read(fname).view('float32')"
   ]
  },
  {
   "cell_type": "code",
   "execution_count": 20,
   "id": "c95d0740",
   "metadata": {},
   "outputs": [
    {
     "name": "stdout",
     "output_type": "stream",
     "text": [
      "Vector shapes:\n",
      "Base vector xb:  (1000000, 128)\n",
      "Query vector xq:  (10000, 128)\n",
      "Ground truth gt:  (10000, 1000)\n"
     ]
    }
   ],
   "source": [
    "dbname = 'SIFT1M'\n",
    "index_path='../indexes/{}_index.bin'.format(dbname)\n",
    "dim=128\n",
    "\n",
    "if dbname.startswith('SIFT'):\n",
    "    # SIFT1M to SIFT1000M\n",
    "    dbsize = int(dbname[4:-1])\n",
    "    xb = mmap_bvecs('/mnt/scratch/wenqi/Faiss_experiments/bigann/bigann_base.bvecs')\n",
    "    xq = mmap_bvecs('/mnt/scratch/wenqi/Faiss_experiments/bigann/bigann_query.bvecs')\n",
    "    gt = ivecs_read('/mnt/scratch/wenqi/Faiss_experiments/bigann/gnd/idx_%dM.ivecs' % dbsize)\n",
    "\n",
    "    N_VEC = int(dbsize * 1000 * 1000)\n",
    "\n",
    "    # trim xb to correct size\n",
    "    xb = xb[:dbsize * 1000 * 1000]\n",
    "\n",
    "    # Wenqi: load xq to main memory and reshape\n",
    "    xq = xq.astype('float32').copy()\n",
    "    xq = np.array(xq, dtype=np.float32)\n",
    "    gt = np.array(gt, dtype=np.int32)\n",
    "\n",
    "    print(\"Vector shapes:\")\n",
    "    print(\"Base vector xb: \", xb.shape)\n",
    "    print(\"Query vector xq: \", xq.shape)\n",
    "    print(\"Ground truth gt: \", gt.shape)\n",
    "else:\n",
    "    print('unknown dataset', dbname, file=sys.stderr)\n",
    "    sys.exit(1)"
   ]
  },
  {
   "cell_type": "code",
   "execution_count": 31,
   "id": "f8a7f4a9",
   "metadata": {},
   "outputs": [],
   "source": [
    "def distributed_search(query_vec, kmeans, index_list, k, ef, all_vectors):\n",
    "    \"\"\"\n",
    "    query_vec: a numpy array of a single d-dimensional vector\n",
    "    kmeans: the kmeans object\n",
    "    index_list: a list of loaded python object of hnsw index\n",
    "    \"\"\"\n",
    "    query_kmeans_format = query_vec.reshape(1,-1).astype(np.float64)\n",
    "    partition_id = kmeans.predict(query_kmeans_format)[0]\n",
    "    search_path = []\n",
    "    all_local_results = []\n",
    "    \n",
    "    while True:\n",
    "        current_index = index_list[partition_id]\n",
    "        search_path.append(partition_id)\n",
    "        \n",
    "        results, local_results, remote_results, search_remote, remote_partition_id = \\\n",
    "            current_index.searchKnnPlusRemoteCache(query_vec, k, ef, all_vectors, debug=False)\n",
    "        all_local_results += local_results\n",
    "        if not search_remote:\n",
    "            break\n",
    "        else:\n",
    "            if remote_partition_id in search_path:\n",
    "                break\n",
    "            else:\n",
    "                partition_id = remote_partition_id\n",
    "                \n",
    "    # merge all results\n",
    "    results_heap = []\n",
    "    for dist, server_ID, vec_ID in all_local_results:\n",
    "        heapq.heappush(results_heap, (-dist, server_ID, vec_ID))\n",
    "    while len(results_heap) > k:\n",
    "        heapq.heappop(results_heap)\n",
    "\n",
    "    results = []\n",
    "    while len(results_heap) > 0:\n",
    "        dist, server_ID, vec_ID = results_heap[0]\n",
    "        results.append((-dist, server_ID, vec_ID))\n",
    "        heapq.heappop(results_heap)\n",
    "    results.reverse()\n",
    "    \n",
    "    # this is in descending order for distance\n",
    "    return results, search_path"
   ]
  },
  {
   "cell_type": "code",
   "execution_count": 14,
   "id": "00a9fbc0",
   "metadata": {},
   "outputs": [],
   "source": [
    "parent_dir = '../indexes_subgraph_kmeans/SIFT1M_4_subgraphs'\n",
    "N_SUBGRAPH = 4"
   ]
  },
  {
   "cell_type": "code",
   "execution_count": 15,
   "id": "b38c347a",
   "metadata": {},
   "outputs": [],
   "source": [
    "all_hnsw_indexes = [load_obj(parent_dir, 'subgraph_{}_with_remote_edges'.format(i)) for i in range(N_SUBGRAPH)]"
   ]
  },
  {
   "cell_type": "code",
   "execution_count": 16,
   "id": "e6bea82d",
   "metadata": {},
   "outputs": [
    {
     "name": "stdout",
     "output_type": "stream",
     "text": [
      "358987\n",
      "257516\n",
      "215615\n",
      "167882\n"
     ]
    }
   ],
   "source": [
    "for i in range(N_SUBGRAPH): \n",
    "    print(len(all_hnsw_indexes[i].remote_links))"
   ]
  },
  {
   "cell_type": "code",
   "execution_count": 17,
   "id": "0ecde0db",
   "metadata": {},
   "outputs": [],
   "source": [
    "kmeans = load_obj(parent_dir, 'kmeans')"
   ]
  },
  {
   "cell_type": "code",
   "execution_count": 45,
   "id": "ac8dbe8b",
   "metadata": {},
   "outputs": [],
   "source": [
    "result_list = []\n",
    "search_path_list = []\n",
    "query_num = 10000\n",
    "\n",
    "for i in range(query_num):\n",
    "    results, search_path = distributed_search(\n",
    "        xq[i], kmeans, index_list=all_hnsw_indexes, k=1, ef=128, all_vectors=xb)\n",
    "    result_list.append(results[-1])\n",
    "    search_path_list.append(search_path)"
   ]
  },
  {
   "cell_type": "code",
   "execution_count": 46,
   "id": "23cfde35",
   "metadata": {},
   "outputs": [
    {
     "name": "stdout",
     "output_type": "stream",
     "text": [
      "0.996 9960\n"
     ]
    }
   ],
   "source": [
    "## Get recall for consider up to 1 remote hop\n",
    "## Wenqi comment: for k-means-based method, the recall is really high\n",
    "# First 100 queries -> 1.0 recall\n",
    "# First 1000 queries -> 0.996 recall\n",
    "# First 10000 queries -> 0.996 recall (visit remote graph = 0.9978)\n",
    "\n",
    "count = 0\n",
    "for i in range(query_num):\n",
    "    ID = result_list[i][2]\n",
    "    if ID == gt[i][0]: count += 1\n",
    "print(count/query_num, count)"
   ]
  },
  {
   "cell_type": "code",
   "execution_count": 47,
   "id": "accb24d0",
   "metadata": {},
   "outputs": [
    {
     "name": "stdout",
     "output_type": "stream",
     "text": [
      "search remote rate: 0.1096 (1096 cases)\n",
      "average path length: 1.1097\n"
     ]
    }
   ],
   "source": [
    "# Count how many searches travel to remote node\n",
    "# First 100 queries -> 9% travels to remote node; average search path length = 1.09\n",
    "# First 100 queries -> 11.8% travels to remote node; average search path length = 1.118\n",
    "# First 100 queries -> 10.96% travels to remote node; average search path length = 1.1097\n",
    "\n",
    "search_remote_count = 0\n",
    "total_path_length = 0\n",
    "for i in range(query_num):\n",
    "    total_path_length += len(search_path_list[i])\n",
    "    if len(search_path_list[i]) > 1: search_remote_count += 1\n",
    "average_path_length = total_path_length / query_num\n",
    "print(\"search remote rate: {} ({} cases)\".format(search_remote_count/query_num, search_remote_count))\n",
    "print(\"average path length: {}\".format(average_path_length))"
   ]
  },
  {
   "cell_type": "code",
   "execution_count": null,
   "id": "84c0039e",
   "metadata": {},
   "outputs": [],
   "source": []
  }
 ],
 "metadata": {
  "kernelspec": {
   "display_name": "Python 3 (ipykernel)",
   "language": "python",
   "name": "python3"
  },
  "language_info": {
   "codemirror_mode": {
    "name": "ipython",
    "version": 3
   },
   "file_extension": ".py",
   "mimetype": "text/x-python",
   "name": "python",
   "nbconvert_exporter": "python",
   "pygments_lexer": "ipython3",
   "version": "3.8.13"
  }
 },
 "nbformat": 4,
 "nbformat_minor": 5
}
