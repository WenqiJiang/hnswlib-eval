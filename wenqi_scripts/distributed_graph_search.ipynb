{
 "cells": [
  {
   "cell_type": "code",
   "execution_count": 1,
   "id": "e4a64436",
   "metadata": {},
   "outputs": [],
   "source": [
    "import hnswlib\n",
    "import numpy as np \n",
    "import struct\n",
    "import heapq"
   ]
  },
  {
   "cell_type": "code",
   "execution_count": null,
   "id": "ec2bbdff",
   "metadata": {},
   "outputs": [],
   "source": [
    "def distributed_search(query_vec, kmeans, index_list, k, ef, all_vectors):\n",
    "    \"\"\"\n",
    "    query_vec: a numpy array of a single d-dimensional vector\n",
    "    kmeans: the kmeans object\n",
    "    index_list: a list of loaded python object of hnsw index\n",
    "    \"\"\"\n",
    "    \n",
    "    partition_id = k_means.predict(query_vec)\n",
    "    search_path = []\n",
    "    all_local_results = []\n",
    "    \n",
    "    while True:\n",
    "        current_index = index_list[partition_id]\n",
    "        search_path.append(partition_id)\n",
    "        \n",
    "        # TODO: Here, need also return remote partition ID\n",
    "        results, local_results, remote_results, search_remote, remote_partition_id = \\ \n",
    "            current_index.searchKnnPlusRemoteCache(query_vec, k, ef, all_vectors, debug=False)\n",
    "        all_local_results += local_results\n",
    "        if not search_remote:\n",
    "            break\n",
    "        else:\n",
    "            if remote_partition_id in search_path:\n",
    "                break\n",
    "            else:\n",
    "                partition_id = remote_partition_id\n",
    "                \n",
    "    # merge all results\n",
    "    results_heap = []\n",
    "    for dist, ID in all_local_results:\n",
    "        heapq.heappush(results_heap, (-dist, ID))\n",
    "    while len(results_heap) > k:\n",
    "        heapq.heappop(results_heap)\n",
    "\n",
    "    results = []\n",
    "    while len(results_heap) > 0:\n",
    "        dist, ID = results_heap[0]\n",
    "        results.append((-dist, ID))\n",
    "        heapq.heappop(results_heap)\n",
    "    results.reverse()\n",
    "    \n",
    "    # this is in descending order for distance\n",
    "    return results, search_path"
   ]
  }
 ],
 "metadata": {
  "kernelspec": {
   "display_name": "Python 3 (ipykernel)",
   "language": "python",
   "name": "python3"
  },
  "language_info": {
   "codemirror_mode": {
    "name": "ipython",
    "version": 3
   },
   "file_extension": ".py",
   "mimetype": "text/x-python",
   "name": "python",
   "nbconvert_exporter": "python",
   "pygments_lexer": "ipython3",
   "version": "3.8.13"
  }
 },
 "nbformat": 4,
 "nbformat_minor": 5
}
